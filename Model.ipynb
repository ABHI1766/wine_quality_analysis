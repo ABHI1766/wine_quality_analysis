{
 "cells": [
  {
   "cell_type": "markdown",
   "metadata": {},
   "source": [
    "# MODEL TRAINING \n",
    "## using 5 cross validation"
   ]
  },
  {
   "cell_type": "code",
   "execution_count": 1,
   "metadata": {},
   "outputs": [],
   "source": [
    "import joblib\n",
    "import pandas as pd\n",
    "from sklearn.model_selection import GridSearchCV\n",
    "from sklearn.svm import SVC"
   ]
  },
  {
   "cell_type": "code",
   "execution_count": 2,
   "metadata": {},
   "outputs": [],
   "source": [
    "tr_feature = pd.read_csv('train_features.csv')\n",
    "tr_label = pd.read_csv('train_label.csv')\n",
    "vl_feature = pd.read_csv('val_features.csv')\n",
    "vl_label = pd.read_csv('val_label.csv')\n",
    "ts_feature = pd.read_csv('test_features.csv')\n",
    "ts_label = pd.read_csv('test_label.csv')"
   ]
  },
  {
   "cell_type": "code",
   "execution_count": 9,
   "metadata": {},
   "outputs": [],
   "source": [
    "def print_result(results):\n",
    "    print(f'BEST PARAMS :{results.best_params_}')\n",
    "    mean = results.cv_results_['mean_test_score']\n",
    "    stds = results.cv_results_['std_test_score']\n",
    "    params = results.cv_results_['params']\n",
    "    \n",
    "    for mean,std,param in zip(mean,stds,params):\n",
    "        print(f'{round(mean,3)} +/-{round(std,3)} for{param}')"
   ]
  },
  {
   "cell_type": "code",
   "execution_count": null,
   "metadata": {},
   "outputs": [],
   "source": []
  },
  {
   "cell_type": "code",
   "execution_count": 22,
   "metadata": {},
   "outputs": [
    {
     "data": {
      "text/plain": [
       "GridSearchCV(cv=5, estimator=SVC(),\n",
       "             param_grid={'C': [0.001, 0.01, 0.1, 1, 5, 10],\n",
       "                         'kernel': ['linear', 'rbf']})"
      ]
     },
     "execution_count": 22,
     "metadata": {},
     "output_type": "execute_result"
    }
   ],
   "source": [
    "svm_model = SVC()\n",
    "parameters = {\n",
    "    'C' :[0.001,0.01,0.1,1,5,10],\n",
    "    'kernel' :['linear','rbf']\n",
    "}\n",
    "cv = GridSearchCV(svm_model,parameters,cv=5)\n",
    "cv.fit(tr_feature,tr_label.values.ravel())\n"
   ]
  },
  {
   "cell_type": "code",
   "execution_count": 25,
   "metadata": {},
   "outputs": [
    {
     "name": "stdout",
     "output_type": "stream",
     "text": [
      "BEST PARAMS :{'C': 10, 'kernel': 'linear'}\n",
      "0.78 +/-0.0 for{'C': 0.001, 'kernel': 'linear'}\n",
      "0.78 +/-0.0 for{'C': 0.001, 'kernel': 'rbf'}\n",
      "0.78 +/-0.0 for{'C': 0.01, 'kernel': 'linear'}\n",
      "0.78 +/-0.0 for{'C': 0.01, 'kernel': 'rbf'}\n",
      "0.78 +/-0.0 for{'C': 0.1, 'kernel': 'linear'}\n",
      "0.78 +/-0.0 for{'C': 0.1, 'kernel': 'rbf'}\n",
      "0.78 +/-0.0 for{'C': 1, 'kernel': 'linear'}\n",
      "0.78 +/-0.0 for{'C': 1, 'kernel': 'rbf'}\n",
      "0.78 +/-0.0 for{'C': 5, 'kernel': 'linear'}\n",
      "0.78 +/-0.0 for{'C': 5, 'kernel': 'rbf'}\n",
      "0.781 +/-0.001 for{'C': 10, 'kernel': 'linear'}\n",
      "0.78 +/-0.0 for{'C': 10, 'kernel': 'rbf'}\n"
     ]
    }
   ],
   "source": [
    "print_result(cv)"
   ]
  },
  {
   "cell_type": "code",
   "execution_count": 26,
   "metadata": {},
   "outputs": [
    {
     "data": {
      "text/plain": [
       "['SVM_MDL.pkl']"
      ]
     },
     "execution_count": 26,
     "metadata": {},
     "output_type": "execute_result"
    }
   ],
   "source": [
    "joblib.dump(cv.best_estimator_,'SVM_MDL.pkl')"
   ]
  },
  {
   "cell_type": "code",
   "execution_count": 27,
   "metadata": {},
   "outputs": [],
   "source": [
    "from sklearn.metrics import accuracy_score, precision_score, recall_score\n",
    "from time import time"
   ]
  },
  {
   "cell_type": "code",
   "execution_count": 28,
   "metadata": {},
   "outputs": [],
   "source": [
    "model = {'SVM_MDL.pkl':joblib.load('SVM_MDL.pkl')}"
   ]
  },
  {
   "cell_type": "code",
   "execution_count": 29,
   "metadata": {},
   "outputs": [],
   "source": [
    "def evaluuate_model(name,model,features,labels):\n",
    "    start = time()\n",
    "    pred = model.predict(features)\n",
    "    end = time()\n",
    "    accuracy = round(accuracy_score(labels,pred),3)\n",
    "    precision = round(precision_score(labels,pred),3)\n",
    "    recall = round(recall_score(labels,pred),3)\n",
    "    print(f'{name}--Accuracy: {accuracy}/ Precision: {precision} / Recall: {recall} / Latency: {round((end-start)*1000,1)}ms')"
   ]
  },
  {
   "cell_type": "markdown",
   "metadata": {},
   "source": [
    "### Geting accuracy for validation data"
   ]
  },
  {
   "cell_type": "code",
   "execution_count": 30,
   "metadata": {},
   "outputs": [
    {
     "name": "stdout",
     "output_type": "stream",
     "text": [
      "SVM_MDL.pkl--Accuracy: 0.787/ Precision: 1.0 / Recall: 0.023 / Latency: 63.6ms\n"
     ]
    }
   ],
   "source": [
    "for name,mdl in model.items():\n",
    "    evaluuate_model(name,mdl,vl_feature,vl_label)"
   ]
  },
  {
   "cell_type": "markdown",
   "metadata": {},
   "source": [
    "### Geting accuracy for Test data"
   ]
  },
  {
   "cell_type": "code",
   "execution_count": 31,
   "metadata": {},
   "outputs": [
    {
     "name": "stdout",
     "output_type": "stream",
     "text": [
      "SVM--Accuracy: 0.798/ Precision: 1.0 / Recall: 0.01 / Latency: 83.6ms\n"
     ]
    }
   ],
   "source": [
    "evaluuate_model('SVM',model['SVM_MDL.pkl'],ts_feature,ts_label)"
   ]
  }
 ],
 "metadata": {
  "kernelspec": {
   "display_name": "Python 3",
   "language": "python",
   "name": "python3"
  },
  "language_info": {
   "codemirror_mode": {
    "name": "ipython",
    "version": 3
   },
   "file_extension": ".py",
   "mimetype": "text/x-python",
   "name": "python",
   "nbconvert_exporter": "python",
   "pygments_lexer": "ipython3",
   "version": "3.8.3"
  }
 },
 "nbformat": 4,
 "nbformat_minor": 4
}
